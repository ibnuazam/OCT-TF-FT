{
 "cells": [
  {
   "cell_type": "markdown",
   "metadata": {},
   "source": [
    "### Import Libraries"
   ]
  },
  {
   "cell_type": "code",
   "execution_count": 1,
   "metadata": {
    "_cell_guid": "b1076dfc-b9ad-4769-8c92-a6c4dae69d19",
    "_uuid": "8f2839f25d086af736a60e9eeb907d3b93b6e0e5"
   },
   "outputs": [
    {
     "name": "stdout",
     "output_type": "stream",
     "text": [
      "Tensorflow version :  2.9.1\n",
      "Keras version :  2.9.0\n"
     ]
    }
   ],
   "source": [
    "# Import fungsi time untuk mendapatkan nilai waktu mulai eksekusi\n",
    "import time\n",
    "a = time.time()\n",
    "# Import fungsi matematika\n",
    "import numpy as np # linear algebra\n",
    "import pandas as pd # data processing, CSV file I/O (e.g. pd.read_csv)\n",
    "# Import fungsi Operating System Directory\n",
    "import os\n",
    "from __future__ import print_function, division\n",
    "from builtins import range, input\n",
    "# Install and/or Import TF dan Keras & show version\n",
    "# !pip install tensorflow\n",
    "# !pip install keras\n",
    "import tensorflow as tf\n",
    "from tensorflow import keras\n",
    "print('Tensorflow version : ', tf.__version__)\n",
    "print('Keras version : ', keras.__version__)\n",
    "# Import Pre-trained Model VGG16\n",
    "from keras.layers import Input, Lambda, Dense, Flatten\n",
    "from keras.models import Model\n",
    "from keras.applications.vgg16 import VGG16\n",
    "from keras.applications.vgg16 import preprocess_input\n",
    "from keras.preprocessing import image\n",
    "from keras.preprocessing.image import ImageDataGenerator\n",
    "# Import fungsi untuk Confusion Matrix dan Plot Grafik\n",
    "from sklearn.metrics import confusion_matrix\n",
    "import matplotlib.pyplot as plt\n",
    "from glob import glob"
   ]
  },
  {
   "cell_type": "markdown",
   "metadata": {},
   "source": [
    "### Explore Data"
   ]
  },
  {
   "cell_type": "code",
   "execution_count": null,
   "metadata": {},
   "outputs": [],
   "source": [
    "# Explore Dataset\n",
    "# from random import shuffle\n",
    "\n",
    "# Set to Current Working Directory\n",
    "cwd = os.getcwd()\n",
    "PATH = os.path.join(cwd, 'OCTOne-tenth')\n",
    "\n",
    "# Set to train dir and show number of files\n",
    "train_dir = os.path.join(PATH, 'train')\n",
    "validation_dir = os.path.join(PATH, 'test')\n",
    "\n",
    "BATCH_SIZE = 32\n",
    "IMG_SIZE = (100, 100)\n",
    "\n",
    "print('Training files and Classes')\n",
    "train_dataset = tf.keras.utils.image_dataset_from_directory(\n",
    "    train_dir,\n",
    "    shuffle=True,\n",
    "    batch_size=BATCH_SIZE,\n",
    "    image_size=IMAGE_SIZE\n",
    ")\n",
    "\n",
    "print('Validation files and Classes')\n",
    "validation_dataset = tf.keras.utils.image_dataset_from_directory(\n",
    "    validation_dir,\n",
    "    shuffle=True,\n",
    "    batch_size=BATCH_SIZE,\n",
    "    image_size=IMG_SIZE\n",
    ")\n",
    "\n",
    "#Split training set to 50%, 25%, or 10% for faster experimental training\n",
    "\n",
    "#Show random training images\n",
    "random = glob(train_dir + '/*/*.jp*g')\n",
    "plt.imshow(keras.utils.load_img(np.random.choice(random)))\n",
    "plt.show()"
   ]
  },
  {
   "cell_type": "code",
   "execution_count": 20,
   "metadata": {},
   "outputs": [
    {
     "name": "stdout",
     "output_type": "stream",
     "text": [
      "Number of validation batches: 26\n",
      "Number of test batches: 6\n"
     ]
    }
   ],
   "source": [
    "val_batches = tf.data.experimental.cardinality(validation_dataset)\n",
    "test_dataset = validation_dataset.take(val_batches // 5)\n",
    "validation_dataset = validation_dataset.skip(val_batches // 5)\n",
    "\n",
    "print('Number of validation batches: %d' % tf.data.experimental.cardinality(validation_dataset))\n",
    "print('Number of test batches: %d' % tf.data.experimental.cardinality(test_dataset))"
   ]
  },
  {
   "cell_type": "code",
   "execution_count": null,
   "metadata": {},
   "outputs": [],
   "source": [
    "AUTOTUNE = tf.data.AUTOTUNE\n",
    "\n",
    "train_dataset = train_dataset.prefetch(buffer_size=AUTOTUNE)\n",
    "validation_dataset = validation_dataset.prefetch(buffer_size=AUTOTUNE)\n",
    "test_dataset = test_dataset.prefetch(buffer_size=AUTOTUNE)\n",
    "\n",
    "# Data Augmentation\n",
    "data_augmentation = tf.keras.Sequential([\n",
    "  tf.keras.layers.RandomFlip('horizontal'),\n",
    "  tf.keras.layers.RandomRotation(0.2),\n",
    "])\n",
    "\n",
    "# Show random augmented images\n",
    "for image, _ in train_dataset.take(1):\n",
    "  plt.figure(figsize=(10, 10))\n",
    "  first_image = image[0]\n",
    "  for i in range(9):\n",
    "    ax = plt.subplot(3, 3, i + 1)\n",
    "    augmented_image = data_augmentation(tf.expand_dims(first_image, 0))\n",
    "    plt.imshow(augmented_image[0] / 255)\n",
    "    plt.axis('off')"
   ]
  },
  {
   "cell_type": "code",
   "execution_count": null,
   "metadata": {},
   "outputs": [],
   "source": [
    "# add preprocessing layer to the front of VGG\n",
    "vgg = VGG16(input_shape=IMAGE_SIZE + [3], weights='imagenet', include_top=False)\n",
    "\n",
    "# don't train existing weights\n",
    "for layer in vgg.layers:\n",
    "    layer.trainable = False\n",
    "\n",
    "# our layers\n",
    "folders = glob(train_dir + '/*')\n",
    "x = Flatten()(vgg.output)\n",
    "# x = Dense(1000, activation='relu')(x)\n",
    "prediction = Dense(len(folders), activation='softmax')(x)\n",
    "\n",
    "\n",
    "# create a model object\n",
    "model = Model(inputs=vgg.input, outputs=prediction)\n",
    "\n",
    "# view the structure of the model\n",
    "model.summary()"
   ]
  },
  {
   "cell_type": "markdown",
   "metadata": {},
   "source": [
    "### Loss and Optimization functions"
   ]
  },
  {
   "cell_type": "code",
   "execution_count": 25,
   "metadata": {},
   "outputs": [],
   "source": [
    "# tell the model what cost and optimization method to use\n",
    "model.compile(\n",
    "  loss='categorical_crossentropy',\n",
    "  optimizer='rmsprop',\n",
    "  metrics=['accuracy']\n",
    ")"
   ]
  },
  {
   "cell_type": "code",
   "execution_count": 27,
   "metadata": {},
   "outputs": [
    {
     "ename": "TypeError",
     "evalue": "Unknown keywords argument(s): ('target_size',)",
     "output_type": "error",
     "traceback": [
      "\u001b[1;31m---------------------------------------------------------------------------\u001b[0m",
      "\u001b[1;31mTypeError\u001b[0m                                 Traceback (most recent call last)",
      "\u001b[1;32mC:\\Users\\LABILK~1\\AppData\\Local\\Temp/ipykernel_4324/1207134360.py\u001b[0m in \u001b[0;36m<module>\u001b[1;34m\u001b[0m\n\u001b[0;32m      2\u001b[0m \u001b[1;33m\u001b[0m\u001b[0m\n\u001b[0;32m      3\u001b[0m \u001b[1;31m# get label mapping for confusion matrix plot later\u001b[0m\u001b[1;33m\u001b[0m\u001b[1;33m\u001b[0m\u001b[0m\n\u001b[1;32m----> 4\u001b[1;33m \u001b[0mtest_gen\u001b[0m \u001b[1;33m=\u001b[0m \u001b[0mtf\u001b[0m\u001b[1;33m.\u001b[0m\u001b[0mkeras\u001b[0m\u001b[1;33m.\u001b[0m\u001b[0mutils\u001b[0m\u001b[1;33m.\u001b[0m\u001b[0mimage_dataset_from_directory\u001b[0m\u001b[1;33m(\u001b[0m\u001b[0mtest_dataset\u001b[0m\u001b[1;33m,\u001b[0m \u001b[0mtarget_size\u001b[0m\u001b[1;33m=\u001b[0m\u001b[0mIMAGE_SIZE\u001b[0m\u001b[1;33m)\u001b[0m\u001b[1;33m\u001b[0m\u001b[1;33m\u001b[0m\u001b[0m\n\u001b[0m\u001b[0;32m      5\u001b[0m \u001b[0mprint\u001b[0m\u001b[1;33m(\u001b[0m\u001b[0mtest_gen\u001b[0m\u001b[1;33m.\u001b[0m\u001b[0mclass_indices\u001b[0m\u001b[1;33m)\u001b[0m\u001b[1;33m\u001b[0m\u001b[1;33m\u001b[0m\u001b[0m\n\u001b[0;32m      6\u001b[0m \u001b[0mlabels\u001b[0m \u001b[1;33m=\u001b[0m \u001b[1;33m[\u001b[0m\u001b[1;32mNone\u001b[0m\u001b[1;33m]\u001b[0m \u001b[1;33m*\u001b[0m \u001b[0mlen\u001b[0m\u001b[1;33m(\u001b[0m\u001b[0mtest_gen\u001b[0m\u001b[1;33m.\u001b[0m\u001b[0mclass_indices\u001b[0m\u001b[1;33m)\u001b[0m\u001b[1;33m\u001b[0m\u001b[1;33m\u001b[0m\u001b[0m\n",
      "\u001b[1;32mc:\\Users\\labilkom5\\anaconda3\\lib\\site-packages\\keras\\utils\\image_dataset.py\u001b[0m in \u001b[0;36mimage_dataset_from_directory\u001b[1;34m(directory, labels, label_mode, class_names, color_mode, batch_size, image_size, shuffle, seed, validation_split, subset, interpolation, follow_links, crop_to_aspect_ratio, **kwargs)\u001b[0m\n\u001b[0;32m    153\u001b[0m     \u001b[0mcrop_to_aspect_ratio\u001b[0m \u001b[1;33m=\u001b[0m \u001b[0mkwargs\u001b[0m\u001b[1;33m.\u001b[0m\u001b[0mpop\u001b[0m\u001b[1;33m(\u001b[0m\u001b[1;34m'smart_resize'\u001b[0m\u001b[1;33m)\u001b[0m\u001b[1;33m\u001b[0m\u001b[1;33m\u001b[0m\u001b[0m\n\u001b[0;32m    154\u001b[0m   \u001b[1;32mif\u001b[0m \u001b[0mkwargs\u001b[0m\u001b[1;33m:\u001b[0m\u001b[1;33m\u001b[0m\u001b[1;33m\u001b[0m\u001b[0m\n\u001b[1;32m--> 155\u001b[1;33m     \u001b[1;32mraise\u001b[0m \u001b[0mTypeError\u001b[0m\u001b[1;33m(\u001b[0m\u001b[1;34mf'Unknown keywords argument(s): {tuple(kwargs.keys())}'\u001b[0m\u001b[1;33m)\u001b[0m\u001b[1;33m\u001b[0m\u001b[1;33m\u001b[0m\u001b[0m\n\u001b[0m\u001b[0;32m    156\u001b[0m   \u001b[1;32mif\u001b[0m \u001b[0mlabels\u001b[0m \u001b[1;32mnot\u001b[0m \u001b[1;32min\u001b[0m \u001b[1;33m(\u001b[0m\u001b[1;34m'inferred'\u001b[0m\u001b[1;33m,\u001b[0m \u001b[1;32mNone\u001b[0m\u001b[1;33m)\u001b[0m\u001b[1;33m:\u001b[0m\u001b[1;33m\u001b[0m\u001b[1;33m\u001b[0m\u001b[0m\n\u001b[0;32m    157\u001b[0m     \u001b[1;32mif\u001b[0m \u001b[1;32mnot\u001b[0m \u001b[0misinstance\u001b[0m\u001b[1;33m(\u001b[0m\u001b[0mlabels\u001b[0m\u001b[1;33m,\u001b[0m \u001b[1;33m(\u001b[0m\u001b[0mlist\u001b[0m\u001b[1;33m,\u001b[0m \u001b[0mtuple\u001b[0m\u001b[1;33m)\u001b[0m\u001b[1;33m)\u001b[0m\u001b[1;33m:\u001b[0m\u001b[1;33m\u001b[0m\u001b[1;33m\u001b[0m\u001b[0m\n",
      "\u001b[1;31mTypeError\u001b[0m: Unknown keywords argument(s): ('target_size',)"
     ]
    }
   ],
   "source": [
    "# test generator to see how it works and some other useful things\n",
    "\n",
    "# get label mapping for confusion matrix plot later\n",
    "test_gen = tf.keras.utils.image_dataset_from_directory(test_dataset, target_size=IMAGE_SIZE)\n",
    "print(test_gen.class_indices)\n",
    "labels = [None] * len(test_gen.class_indices)\n",
    "for k, v in test_gen.class_indices.items():\n",
    "    labels[v] = k\n",
    "\n",
    "# should be a strangely colored image (due to VGG weights being BGR)\n",
    "#for x, y in test_gen:\n",
    "#    print(\"min:\", x[0].min(), \"max:\", x[0].max())\n",
    "#    plt.title(labels[np.argmax(y[0])])\n",
    "#    plt.imshow(x[0])\n",
    "#    plt.show()\n",
    "#    break"
   ]
  },
  {
   "cell_type": "code",
   "execution_count": 19,
   "metadata": {},
   "outputs": [
    {
     "name": "stdout",
     "output_type": "stream",
     "text": [
      "Epoch 1/35\n"
     ]
    },
    {
     "name": "stderr",
     "output_type": "stream",
     "text": [
      "C:\\Users\\LABILK~1\\AppData\\Local\\Temp/ipykernel_5332/1754378801.py:5: UserWarning: `Model.fit_generator` is deprecated and will be removed in a future version. Please use `Model.fit`, which supports generators.\n",
      "  r = model.fit_generator(\n"
     ]
    },
    {
     "name": "stdout",
     "output_type": "stream",
     "text": [
      "338/338 [==============================] - 225s 664ms/step - loss: 4.2162 - accuracy: 0.6470 - val_loss: 8.5510 - val_accuracy: 0.5312\n",
      "Epoch 2/35\n",
      "338/338 [==============================] - 223s 661ms/step - loss: 3.3108 - accuracy: 0.7106 - val_loss: 4.3111 - val_accuracy: 0.6149\n",
      "Epoch 3/35\n",
      "338/338 [==============================] - 223s 660ms/step - loss: 3.1275 - accuracy: 0.7346 - val_loss: 4.1104 - val_accuracy: 0.6472\n",
      "Epoch 4/35\n",
      "338/338 [==============================] - 224s 663ms/step - loss: 3.0040 - accuracy: 0.7442 - val_loss: 8.5707 - val_accuracy: 0.5726\n",
      "Epoch 5/35\n",
      "338/338 [==============================] - 226s 668ms/step - loss: 3.0310 - accuracy: 0.7505 - val_loss: 5.8172 - val_accuracy: 0.6089\n",
      "Epoch 6/35\n",
      "338/338 [==============================] - 226s 667ms/step - loss: 3.0413 - accuracy: 0.7511 - val_loss: 6.0622 - val_accuracy: 0.6109\n",
      "Epoch 7/35\n",
      "338/338 [==============================] - 224s 663ms/step - loss: 3.0021 - accuracy: 0.7569 - val_loss: 6.3933 - val_accuracy: 0.6058\n",
      "Epoch 8/35\n",
      "338/338 [==============================] - 225s 666ms/step - loss: 2.9968 - accuracy: 0.7593 - val_loss: 4.9748 - val_accuracy: 0.6381\n",
      "Epoch 9/35\n",
      "338/338 [==============================] - 226s 668ms/step - loss: 2.9044 - accuracy: 0.7675 - val_loss: 5.8168 - val_accuracy: 0.6028\n",
      "Epoch 10/35\n",
      "338/338 [==============================] - 225s 665ms/step - loss: 3.1296 - accuracy: 0.7609 - val_loss: 6.8127 - val_accuracy: 0.6190\n",
      "Epoch 11/35\n",
      "338/338 [==============================] - 226s 667ms/step - loss: 3.0585 - accuracy: 0.7632 - val_loss: 5.5055 - val_accuracy: 0.6593\n",
      "Epoch 12/35\n",
      "338/338 [==============================] - 225s 667ms/step - loss: 3.0144 - accuracy: 0.7639 - val_loss: 6.7415 - val_accuracy: 0.6250\n",
      "Epoch 13/35\n",
      "338/338 [==============================] - 226s 667ms/step - loss: 3.0825 - accuracy: 0.7634 - val_loss: 6.1877 - val_accuracy: 0.6371\n",
      "Epoch 14/35\n",
      "338/338 [==============================] - 227s 670ms/step - loss: 2.9315 - accuracy: 0.7732 - val_loss: 6.0214 - val_accuracy: 0.6341\n",
      "Epoch 15/35\n",
      "338/338 [==============================] - 227s 671ms/step - loss: 2.9747 - accuracy: 0.7742 - val_loss: 7.4869 - val_accuracy: 0.6290\n",
      "Epoch 16/35\n",
      "338/338 [==============================] - 225s 667ms/step - loss: 2.9875 - accuracy: 0.7722 - val_loss: 4.0853 - val_accuracy: 0.6915\n",
      "Epoch 17/35\n",
      "338/338 [==============================] - 225s 667ms/step - loss: 3.0552 - accuracy: 0.7702 - val_loss: 7.2472 - val_accuracy: 0.6200\n",
      "Epoch 18/35\n",
      "338/338 [==============================] - 226s 669ms/step - loss: 3.0045 - accuracy: 0.7748 - val_loss: 5.3749 - val_accuracy: 0.6421\n",
      "Epoch 19/35\n",
      "338/338 [==============================] - 227s 672ms/step - loss: 3.0564 - accuracy: 0.7704 - val_loss: 5.4906 - val_accuracy: 0.6613\n",
      "Epoch 20/35\n",
      "338/338 [==============================] - 225s 665ms/step - loss: 3.1046 - accuracy: 0.7755 - val_loss: 6.5561 - val_accuracy: 0.6462\n",
      "Epoch 21/35\n",
      "338/338 [==============================] - 225s 667ms/step - loss: 2.9623 - accuracy: 0.7783 - val_loss: 6.8048 - val_accuracy: 0.6522\n",
      "Epoch 22/35\n",
      "338/338 [==============================] - 227s 670ms/step - loss: 3.1868 - accuracy: 0.7707 - val_loss: 5.6894 - val_accuracy: 0.6633\n",
      "Epoch 23/35\n",
      "338/338 [==============================] - 227s 672ms/step - loss: 3.0837 - accuracy: 0.7778 - val_loss: 6.8076 - val_accuracy: 0.6421\n",
      "Epoch 24/35\n",
      "338/338 [==============================] - 226s 669ms/step - loss: 3.1490 - accuracy: 0.7753 - val_loss: 5.6952 - val_accuracy: 0.6784\n",
      "Epoch 25/35\n",
      "338/338 [==============================] - 226s 669ms/step - loss: 3.1257 - accuracy: 0.7735 - val_loss: 10.1159 - val_accuracy: 0.5696\n",
      "Epoch 26/35\n",
      "338/338 [==============================] - 226s 669ms/step - loss: 2.9913 - accuracy: 0.7763 - val_loss: 8.0154 - val_accuracy: 0.5998\n",
      "Epoch 27/35\n",
      "338/338 [==============================] - 227s 671ms/step - loss: 3.0882 - accuracy: 0.7801 - val_loss: 6.1722 - val_accuracy: 0.6633\n",
      "Epoch 28/35\n",
      "338/338 [==============================] - 225s 666ms/step - loss: 2.9819 - accuracy: 0.7822 - val_loss: 8.2814 - val_accuracy: 0.6179\n",
      "Epoch 29/35\n",
      "338/338 [==============================] - 223s 661ms/step - loss: 3.0351 - accuracy: 0.7815 - val_loss: 6.1145 - val_accuracy: 0.6300\n",
      "Epoch 30/35\n",
      "338/338 [==============================] - 226s 670ms/step - loss: 3.0068 - accuracy: 0.7785 - val_loss: 8.9071 - val_accuracy: 0.6048\n",
      "Epoch 31/35\n",
      "338/338 [==============================] - 226s 668ms/step - loss: 3.1347 - accuracy: 0.7776 - val_loss: 6.4870 - val_accuracy: 0.6512\n",
      "Epoch 32/35\n",
      "338/338 [==============================] - 223s 659ms/step - loss: 2.9835 - accuracy: 0.7819 - val_loss: 7.9815 - val_accuracy: 0.6401\n",
      "Epoch 33/35\n",
      "338/338 [==============================] - 226s 667ms/step - loss: 3.1484 - accuracy: 0.7778 - val_loss: 8.3585 - val_accuracy: 0.6210\n",
      "Epoch 34/35\n",
      "338/338 [==============================] - 225s 664ms/step - loss: 3.1205 - accuracy: 0.7761 - val_loss: 6.5353 - val_accuracy: 0.6310\n",
      "Epoch 35/35\n",
      "338/338 [==============================] - 225s 665ms/step - loss: 3.0672 - accuracy: 0.7809 - val_loss: 7.7879 - val_accuracy: 0.6341\n"
     ]
    }
   ],
   "source": [
    "# training config:\n",
    "epochs = 35\n",
    "\n",
    "# fit the model\n",
    "r = model.fit_generator(\n",
    "  train_generator,\n",
    "  validation_data=valid_generator,\n",
    "  epochs=epochs,\n",
    "  steps_per_epoch=len(train_files) // batch_size,\n",
    "  validation_steps=len(valid_image_files) // batch_size,\n",
    ")"
   ]
  },
  {
   "cell_type": "code",
   "execution_count": 20,
   "metadata": {},
   "outputs": [
    {
     "name": "stdout",
     "output_type": "stream",
     "text": [
      "Generating confusion matrix 10829\n",
      "Found 10829 images belonging to 4 classes.\n",
      "2/2 [==============================] - 1s 568ms/step\n",
      "2/2 [==============================] - 1s 555ms/step\n",
      "2/2 [==============================] - 1s 561ms/step\n",
      "2/2 [==============================] - 1s 562ms/step\n",
      "2/2 [==============================] - 1s 563ms/step\n",
      "2/2 [==============================] - 1s 565ms/step\n",
      "2/2 [==============================] - 1s 622ms/step\n",
      "2/2 [==============================] - 1s 580ms/step\n",
      "2/2 [==============================] - 1s 610ms/step\n",
      "2/2 [==============================] - 1s 592ms/step\n",
      "2/2 [==============================] - 1s 566ms/step\n",
      "2/2 [==============================] - 1s 566ms/step\n",
      "2/2 [==============================] - 1s 551ms/step\n",
      "2/2 [==============================] - 1s 569ms/step\n",
      "2/2 [==============================] - 1s 568ms/step\n",
      "2/2 [==============================] - 1s 554ms/step\n",
      "2/2 [==============================] - 1s 559ms/step\n",
      "2/2 [==============================] - 1s 557ms/step\n",
      "2/2 [==============================] - 1s 561ms/step\n",
      "2/2 [==============================] - 1s 557ms/step\n",
      "2/2 [==============================] - 1s 564ms/step\n",
      "2/2 [==============================] - 1s 567ms/step\n",
      "2/2 [==============================] - 1s 563ms/step\n",
      "2/2 [==============================] - 1s 568ms/step\n",
      "2/2 [==============================] - 1s 561ms/step\n",
      "2/2 [==============================] - 1s 570ms/step\n",
      "2/2 [==============================] - 1s 568ms/step\n",
      "2/2 [==============================] - 1s 565ms/step\n",
      "2/2 [==============================] - 1s 569ms/step\n",
      "2/2 [==============================] - 1s 562ms/step\n",
      "2/2 [==============================] - 1s 566ms/step\n",
      "2/2 [==============================] - 1s 561ms/step\n",
      "2/2 [==============================] - 1s 569ms/step\n",
      "2/2 [==============================] - 1s 561ms/step\n",
      "2/2 [==============================] - 1s 562ms/step\n",
      "2/2 [==============================] - 1s 561ms/step\n",
      "2/2 [==============================] - 1s 559ms/step\n",
      "2/2 [==============================] - 1s 568ms/step\n",
      "2/2 [==============================] - 1s 558ms/step\n",
      "2/2 [==============================] - 1s 568ms/step\n",
      "2/2 [==============================] - 1s 564ms/step\n",
      "2/2 [==============================] - 1s 565ms/step\n",
      "2/2 [==============================] - 1s 568ms/step\n",
      "2/2 [==============================] - 1s 558ms/step\n",
      "2/2 [==============================] - 1s 620ms/step\n",
      "2/2 [==============================] - 1s 562ms/step\n",
      "2/2 [==============================] - 1s 564ms/step\n",
      "2/2 [==============================] - 1s 558ms/step\n",
      "2/2 [==============================] - 1s 565ms/step\n",
      "50\n",
      "2/2 [==============================] - 1s 561ms/step\n",
      "2/2 [==============================] - 1s 569ms/step\n",
      "2/2 [==============================] - 1s 564ms/step\n",
      "2/2 [==============================] - 1s 562ms/step\n",
      "2/2 [==============================] - 1s 563ms/step\n",
      "2/2 [==============================] - 1s 560ms/step\n",
      "2/2 [==============================] - 1s 563ms/step\n",
      "2/2 [==============================] - 1s 556ms/step\n",
      "2/2 [==============================] - 1s 566ms/step\n",
      "2/2 [==============================] - 1s 568ms/step\n",
      "2/2 [==============================] - 1s 567ms/step\n",
      "2/2 [==============================] - 1s 569ms/step\n",
      "2/2 [==============================] - 1s 561ms/step\n",
      "2/2 [==============================] - 1s 566ms/step\n",
      "2/2 [==============================] - 1s 559ms/step\n",
      "2/2 [==============================] - 1s 562ms/step\n",
      "2/2 [==============================] - 1s 566ms/step\n",
      "2/2 [==============================] - 1s 563ms/step\n",
      "2/2 [==============================] - 1s 572ms/step\n",
      "2/2 [==============================] - 1s 559ms/step\n",
      "2/2 [==============================] - 1s 569ms/step\n",
      "2/2 [==============================] - 1s 557ms/step\n",
      "2/2 [==============================] - 1s 565ms/step\n",
      "2/2 [==============================] - 1s 568ms/step\n",
      "2/2 [==============================] - 1s 561ms/step\n",
      "2/2 [==============================] - 1s 567ms/step\n",
      "2/2 [==============================] - 1s 572ms/step\n",
      "2/2 [==============================] - 1s 563ms/step\n",
      "2/2 [==============================] - 1s 557ms/step\n",
      "2/2 [==============================] - 1s 561ms/step\n",
      "2/2 [==============================] - 1s 566ms/step\n",
      "2/2 [==============================] - 1s 556ms/step\n",
      "2/2 [==============================] - 1s 563ms/step\n",
      "2/2 [==============================] - 1s 622ms/step\n",
      "2/2 [==============================] - 1s 563ms/step\n",
      "2/2 [==============================] - 1s 561ms/step\n",
      "2/2 [==============================] - 1s 562ms/step\n",
      "2/2 [==============================] - 1s 562ms/step\n",
      "2/2 [==============================] - 1s 559ms/step\n",
      "2/2 [==============================] - 1s 568ms/step\n",
      "2/2 [==============================] - 1s 561ms/step\n",
      "2/2 [==============================] - 1s 565ms/step\n",
      "2/2 [==============================] - 1s 554ms/step\n",
      "2/2 [==============================] - 1s 562ms/step\n",
      "2/2 [==============================] - 1s 565ms/step\n",
      "2/2 [==============================] - 1s 559ms/step\n",
      "2/2 [==============================] - 1s 559ms/step\n",
      "2/2 [==============================] - 1s 565ms/step\n",
      "2/2 [==============================] - 1s 566ms/step\n",
      "2/2 [==============================] - 1s 565ms/step\n",
      "100\n",
      "2/2 [==============================] - 1s 558ms/step\n",
      "2/2 [==============================] - 1s 567ms/step\n",
      "2/2 [==============================] - 1s 558ms/step\n",
      "2/2 [==============================] - 1s 577ms/step\n",
      "2/2 [==============================] - 1s 559ms/step\n",
      "2/2 [==============================] - 1s 569ms/step\n",
      "2/2 [==============================] - 1s 570ms/step\n",
      "2/2 [==============================] - 1s 560ms/step\n",
      "2/2 [==============================] - 1s 568ms/step\n",
      "2/2 [==============================] - 1s 561ms/step\n",
      "2/2 [==============================] - 1s 571ms/step\n",
      "2/2 [==============================] - 1s 566ms/step\n",
      "2/2 [==============================] - 1s 564ms/step\n",
      "2/2 [==============================] - 1s 563ms/step\n",
      "2/2 [==============================] - 1s 557ms/step\n",
      "2/2 [==============================] - 1s 568ms/step\n",
      "2/2 [==============================] - 1s 564ms/step\n",
      "2/2 [==============================] - 1s 568ms/step\n",
      "2/2 [==============================] - 1s 563ms/step\n",
      "2/2 [==============================] - 1s 563ms/step\n",
      "2/2 [==============================] - 1s 568ms/step\n",
      "2/2 [==============================] - 1s 559ms/step\n",
      "2/2 [==============================] - 1s 567ms/step\n",
      "2/2 [==============================] - 1s 557ms/step\n",
      "2/2 [==============================] - 1s 566ms/step\n",
      "2/2 [==============================] - 1s 572ms/step\n",
      "2/2 [==============================] - 1s 567ms/step\n",
      "2/2 [==============================] - 1s 573ms/step\n",
      "2/2 [==============================] - 1s 569ms/step\n",
      "2/2 [==============================] - 1s 565ms/step\n",
      "2/2 [==============================] - 1s 560ms/step\n",
      "2/2 [==============================] - 1s 570ms/step\n",
      "2/2 [==============================] - 1s 571ms/step\n",
      "2/2 [==============================] - 1s 562ms/step\n",
      "2/2 [==============================] - 1s 566ms/step\n",
      "2/2 [==============================] - 1s 556ms/step\n",
      "2/2 [==============================] - 1s 582ms/step\n",
      "2/2 [==============================] - 1s 588ms/step\n",
      "2/2 [==============================] - 1s 607ms/step\n",
      "2/2 [==============================] - 1s 557ms/step\n",
      "2/2 [==============================] - 1s 564ms/step\n",
      "2/2 [==============================] - 1s 567ms/step\n",
      "2/2 [==============================] - 1s 571ms/step\n",
      "2/2 [==============================] - 1s 580ms/step\n",
      "2/2 [==============================] - 1s 559ms/step\n",
      "2/2 [==============================] - 1s 569ms/step\n",
      "2/2 [==============================] - 1s 561ms/step\n",
      "2/2 [==============================] - 1s 564ms/step\n",
      "2/2 [==============================] - 1s 557ms/step\n",
      "2/2 [==============================] - 1s 563ms/step\n",
      "150\n",
      "2/2 [==============================] - 1s 569ms/step\n",
      "2/2 [==============================] - 1s 569ms/step\n",
      "2/2 [==============================] - 1s 566ms/step\n",
      "2/2 [==============================] - 1s 563ms/step\n",
      "2/2 [==============================] - 1s 566ms/step\n",
      "2/2 [==============================] - 1s 570ms/step\n",
      "2/2 [==============================] - 1s 564ms/step\n",
      "2/2 [==============================] - 1s 569ms/step\n",
      "2/2 [==============================] - 1s 558ms/step\n",
      "2/2 [==============================] - 1s 621ms/step\n",
      "2/2 [==============================] - 1s 566ms/step\n",
      "2/2 [==============================] - 1s 562ms/step\n",
      "2/2 [==============================] - 1s 569ms/step\n",
      "2/2 [==============================] - 1s 560ms/step\n",
      "2/2 [==============================] - 1s 564ms/step\n",
      "2/2 [==============================] - 1s 557ms/step\n",
      "2/2 [==============================] - 1s 561ms/step\n",
      "2/2 [==============================] - 1s 550ms/step\n",
      "2/2 [==============================] - 1s 566ms/step\n",
      "2/2 [==============================] - 1s 560ms/step\n",
      "1/1 [==============================] - 0s 315ms/step\n",
      "[[3268  111  116  225]\n",
      " [ 153  564   36  381]\n",
      " [ 149   37  339  336]\n",
      " [ 196  184  189 4545]]\n",
      "Generating confusion matrix 1000\n",
      "Found 1000 images belonging to 4 classes.\n",
      "2/2 [==============================] - 1s 558ms/step\n",
      "2/2 [==============================] - 1s 557ms/step\n",
      "2/2 [==============================] - 1s 561ms/step\n",
      "2/2 [==============================] - 1s 550ms/step\n",
      "2/2 [==============================] - 1s 561ms/step\n",
      "2/2 [==============================] - 1s 556ms/step\n",
      "2/2 [==============================] - 1s 558ms/step\n",
      "2/2 [==============================] - 1s 556ms/step\n",
      "2/2 [==============================] - 1s 554ms/step\n",
      "2/2 [==============================] - 1s 565ms/step\n",
      "2/2 [==============================] - 1s 557ms/step\n",
      "2/2 [==============================] - 1s 559ms/step\n",
      "2/2 [==============================] - 1s 560ms/step\n",
      "2/2 [==============================] - 1s 556ms/step\n",
      "2/2 [==============================] - 1s 550ms/step\n",
      "2/2 [==============================] - 1s 151ms/step\n",
      "[[227  14   1   8]\n",
      " [ 60 145   3  42]\n",
      " [ 74  19  46 111]\n",
      " [  9  16  11 214]]\n"
     ]
    }
   ],
   "source": [
    "def get_confusion_matrix(data_path, N):\n",
    "  # we need to see the data in the same order\n",
    "  # for both predictions and targets\n",
    "    print(\"Generating confusion matrix\", N)\n",
    "    predictions = []\n",
    "    targets = []\n",
    "    i = 0\n",
    "    for x, y in gen.flow_from_directory(data_path, target_size=IMAGE_SIZE, shuffle=False, batch_size=batch_size * 2):\n",
    "        i += 1\n",
    "        if i % 50 == 0:\n",
    "            print(i)\n",
    "        p = model.predict(x)\n",
    "        p = np.argmax(p, axis=1)\n",
    "        y = np.argmax(y, axis=1)\n",
    "        predictions = np.concatenate((predictions, p))\n",
    "        targets = np.concatenate((targets, y))\n",
    "        if len(targets) >= N:\n",
    "            break\n",
    "    cm = confusion_matrix(targets, predictions)\n",
    "    return cm\n",
    "\n",
    "\n",
    "cm = get_confusion_matrix(train_path, len(train_files))\n",
    "print(cm)\n",
    "valid_cm = get_confusion_matrix(valid_path, len(valid_image_files))\n",
    "print(valid_cm)\n",
    "\n",
    "\n"
   ]
  },
  {
   "cell_type": "code",
   "execution_count": 21,
   "metadata": {},
   "outputs": [
    {
     "data": {
      "image/png": "[encoded data removed]",
      "text/plain": [
       "<Figure size 432x288 with 1 Axes>"
      ]
     },
     "metadata": {},
     "output_type": "display_data"
    },
    {
     "data": {
      "image/png": "[encoded data removed]",
      "text/plain": [
       "<Figure size 432x288 with 1 Axes>"
      ]
     },
     "metadata": {},
     "output_type": "display_data"
    }
   ],
   "source": [
    "# plot Loss and Accuracies\n",
    "\n",
    "# loss\n",
    "plt.plot(r.history['loss'], label='train loss')\n",
    "plt.plot(r.history['val_loss'], label='val loss')\n",
    "plt.legend()\n",
    "plt.show()\n",
    "\n",
    "# accuracies\n",
    "plt.plot(r.history['accuracy'], label='train acc')\n",
    "plt.plot(r.history['val_accuracy'], label='val acc')\n",
    "plt.legend()\n",
    "plt.show()\n"
   ]
  },
  {
   "cell_type": "code",
   "execution_count": 22,
   "metadata": {},
   "outputs": [
    {
     "name": "stdout",
     "output_type": "stream",
     "text": [
      "Confusion matrix, without normalization\n",
      "[[3268  111  116  225]\n",
      " [ 153  564   36  381]\n",
      " [ 149   37  339  336]\n",
      " [ 196  184  189 4545]]\n"
     ]
    },
    {
     "data": {
      "image/png": "[encoded data removed]",
      "text/plain": [
       "<Figure size 432x288 with 2 Axes>"
      ]
     },
     "metadata": {},
     "output_type": "display_data"
    },
    {
     "name": "stdout",
     "output_type": "stream",
     "text": [
      "Confusion matrix, without normalization\n",
      "[[227  14   1   8]\n",
      " [ 60 145   3  42]\n",
      " [ 74  19  46 111]\n",
      " [  9  16  11 214]]\n"
     ]
    },
    {
     "data": {
      "image/png": "[encoded data removed]",
      "text/plain": [
       "<Figure size 432x288 with 2 Axes>"
      ]
     },
     "metadata": {},
     "output_type": "display_data"
    }
   ],
   "source": [
    "# Plot Confusion Matrix\n",
    "import itertools\n",
    "def plot_confusion_matrix(cm, classes,\n",
    "                          normalize=False,\n",
    "                          title='Confusion matrix',\n",
    "                          cmap=plt.cm.Blues):\n",
    "    if normalize:\n",
    "        cm = cm.astype('float') / cm.sum(axis=1)[:, np.newaxis]\n",
    "        print(\"Normalized confusion matrix\")\n",
    "    else:\n",
    "        print('Confusion matrix, without normalization')\n",
    "\n",
    "    print(cm)\n",
    "\n",
    "    plt.imshow(cm, interpolation='nearest', cmap=cmap)\n",
    "    plt.title(title)\n",
    "    plt.colorbar()\n",
    "    tick_marks = np.arange(len(classes))\n",
    "    plt.xticks(tick_marks, classes, rotation=45)\n",
    "    plt.yticks(tick_marks, classes)\n",
    "\n",
    "    fmt = '.2f' if normalize else 'd'\n",
    "    thresh = cm.max() / 2.\n",
    "    for i, j in itertools.product(range(cm.shape[0]), range(cm.shape[1])):\n",
    "        plt.text(j, i, format(cm[i, j], fmt),\n",
    "               horizontalalignment=\"center\",\n",
    "               color=\"white\" if cm[i, j] > thresh else \"black\")\n",
    "\n",
    "    plt.tight_layout()\n",
    "    plt.ylabel('True label')\n",
    "    plt.xlabel('Predicted label')\n",
    "    plt.show()\n",
    "plot_confusion_matrix(cm, labels, title='Train confusion matrix')\n",
    "plot_confusion_matrix(valid_cm, labels, title='Validation confusion matrix')"
   ]
  },
  {
   "cell_type": "code",
   "execution_count": 23,
   "metadata": {},
   "outputs": [
    {
     "name": "stdout",
     "output_type": "stream",
     "text": [
      "time:  8159.5495393276215\n"
     ]
    }
   ],
   "source": [
    "b = time.time()\n",
    "print(\"time: \", b - a)"
   ]
  }
 ],
 "metadata": {
  "kernelspec": {
   "display_name": "Python 3.9.7 ('base')",
   "language": "python",
   "name": "python3"
  },
  "language_info": {
   "codemirror_mode": {
    "name": "ipython",
    "version": 3
   },
   "file_extension": ".py",
   "mimetype": "text/x-python",
   "name": "python",
   "nbconvert_exporter": "python",
   "pygments_lexer": "ipython3",
   "version": "3.9.7"
  },
  "vscode": {
   "interpreter": {
    "hash": "e75affc4357fa6ab55609e045deac760ce72eac2c3d3e9e04ebe78cd5aa96b5c"
   }
  }
 },
 "nbformat": 4,
 "nbformat_minor": 1
}
