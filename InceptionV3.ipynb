{
 "cells": [
  {
   "cell_type": "code",
   "execution_count": 1,
   "metadata": {
    "colab": {},
    "colab_type": "code",
    "id": "r8VU6BS4Un97"
   },
   "outputs": [],
   "source": [
    "import os\n",
    "import zipfile\n",
    "import tensorflow as tf\n",
    "from tensorflow.keras.optimizers import RMSprop\n",
    "from tensorflow.keras.preprocessing.image import ImageDataGenerator\n",
    "from tensorflow.keras import layers\n",
    "from tensorflow.keras import Model"
   ]
  },
  {
   "cell_type": "code",
   "execution_count": 2,
   "metadata": {},
   "outputs": [
    {
     "name": "stdout",
     "output_type": "stream",
     "text": [
      "Found 108309 files belonging to 4 classes.\n",
      "Found 1000 files belonging to 4 classes.\n"
     ]
    }
   ],
   "source": [
    "cwd = os.getcwd()\n",
    "PATH = os.path.join(cwd, 'OCT')\n",
    "train_dir = os.path.join(PATH, 'train')\n",
    "test_dir = os.path.join(PATH, 'test')\n",
    "\n",
    "train_dataset = tf.keras.utils.image_dataset_from_directory(train_dir,\n",
    "                                                            shuffle=True)\n",
    "\n",
    "train_CNV_dir = os.path.join(train_dir, 'CNV')\n",
    "train_DME_dir = os.path.join(train_dir, 'DME')\n",
    "train_Drusen_dir = os.path.join(train_dir, 'Drusen')\n",
    "train_NORMAL_dir = os.path.join(train_dir, 'NORMAL')\n",
    "\n",
    "test_dataset = tf.keras.utils.image_dataset_from_directory(test_dir,\n",
    "                                                           shuffle=True)\n",
    "\n",
    "test_CNV_dir = os.path.join(test_dir, 'CNV')\n",
    "test_DME_dir = os.path.join(test_dir, 'DME')\n",
    "test_Drusen_dir = os.path.join(test_dir, 'Drusen')\n",
    "test_NORMAL_dir = os.path.join(test_dir, 'NORMAL')"
   ]
  },
  {
   "cell_type": "code",
   "execution_count": null,
   "metadata": {},
   "outputs": [],
   "source": []
  }
 ],
 "metadata": {
  "kernelspec": {
   "display_name": "Python 3.9.7 ('base')",
   "language": "python",
   "name": "python3"
  },
  "language_info": {
   "codemirror_mode": {
    "name": "ipython",
    "version": 3
   },
   "file_extension": ".py",
   "mimetype": "text/x-python",
   "name": "python",
   "nbconvert_exporter": "python",
   "pygments_lexer": "ipython3",
   "version": "3.9.7"
  },
  "orig_nbformat": 4,
  "vscode": {
   "interpreter": {
    "hash": "e75affc4357fa6ab55609e045deac760ce72eac2c3d3e9e04ebe78cd5aa96b5c"
   }
  }
 },
 "nbformat": 4,
 "nbformat_minor": 2
}
